{
 "cells": [
  {
   "cell_type": "code",
   "execution_count": null,
   "id": "a10ab375",
   "metadata": {},
   "outputs": [],
   "source": [
    "#This is a Love Calculator project written in Python.\n",
    "#The project asks the user to input their name and the name of their crush, \n",
    "#and then calculates a love percentage based on a simple algorithm."
   ]
  },
  {
   "cell_type": "code",
   "execution_count": null,
   "id": "1ee7235a",
   "metadata": {},
   "outputs": [],
   "source": [
    "#Love Calculator\n",
    "\n",
    "print(\"Welcome to the Love Calculator!\")\n",
    "name1 = input(\"What is your name? \\n\")\n",
    "name2 = input(\"What is your name? \\n\")\n",
    "l=0\n",
    "t=0\n",
    "\n",
    "combine_string = name1 + name2\n",
    "lowercase_string = combine_string.lower()\n",
    "print(lowercase_string)\n",
    "\n",
    "true = \"true\"\n",
    "love = \"love\"\n",
    "\n",
    "for i in love:\n",
    "    l = l + lowercase_string[i]\n",
    "    \n",
    "for j in true:\n",
    "    t = t + lowercase_string[j]\n",
    "\n",
    "love_score = int(str(l) + str(t))\n",
    "\n",
    "if love_score<10 or love_score>90:\n",
    "    print(f\"Your score is {love_score}, you go together like coke and mentos.\")\n",
    "    \n",
    "    \n",
    "elif love_score>=40 and love_score<=50:\n",
    "    print(f\"Your score is {love_score}, you are alright together.\")\n",
    "    \n",
    "else:\n",
    "    print(f\"Your score is {love_score}.\")"
   ]
  }
 ],
 "metadata": {
  "kernelspec": {
   "display_name": "Python 3 (ipykernel)",
   "language": "python",
   "name": "python3"
  },
  "language_info": {
   "codemirror_mode": {
    "name": "ipython",
    "version": 3
   },
   "file_extension": ".py",
   "mimetype": "text/x-python",
   "name": "python",
   "nbconvert_exporter": "python",
   "pygments_lexer": "ipython3",
   "version": "3.9.13"
  }
 },
 "nbformat": 4,
 "nbformat_minor": 5
}
