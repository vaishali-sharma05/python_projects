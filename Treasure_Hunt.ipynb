{
 "cells": [
  {
   "cell_type": "code",
   "execution_count": null,
   "id": "046374af",
   "metadata": {},
   "outputs": [],
   "source": [
    "#This is a Treasure Hunt Game project written in Python."
   ]
  },
  {
   "cell_type": "code",
   "execution_count": null,
   "id": "46de37a0",
   "metadata": {},
   "outputs": [],
   "source": [
    "print('''*******************************************************************************\n",
    "          |                   |                  |                     |\n",
    " _________|________________.=\"\"_;=.______________|_____________________|_______\n",
    "|                   |  ,-\"_,=\"\"     `\"=.|                  |\n",
    "|___________________|__\"=._o`\"-._        `\"=.______________|___________________\n",
    "          |                `\"=._o`\"=._      _`\"=._                     |\n",
    " _________|_____________________:=._o \"=._.\"_.-=\"'\"=.__________________|_______\n",
    "|                   |    __.--\" , ; `\"=._o.\" ,-\"\"\"-._ \".   |\n",
    "|___________________|_._\"  ,. .` ` `` ,  `\"-._\"-._   \". '__|___________________\n",
    "          |           |o`\"=._` , \"` `; .\". ,  \"-._\"-._; ;              |\n",
    " _________|___________| ;`-.o`\"=._; .\" ` '`.\"\\` . \"-._ /_______________|_______\n",
    "|                   | |o;    `\"-.o`\"=._``  '` \" ,__.--o;   |\n",
    "|___________________|_| ;     (#) `-.o `\"=.`_.--\"_o.-; ;___|___________________\n",
    "____/______/______/___|o;._    \"      `\".o|o_.--\"    ;o;____/______/______/____\n",
    "/______/______/______/_\"=._o--._        ; | ;        ; ;/______/______/______/_\n",
    "____/______/______/______/__\"=._o--._   ;o|o;     _._;o;____/______/______/____\n",
    "/______/______/______/______/____\"=._o._; | ;_.--\"o.--\"_/______/______/______/_\n",
    "____/______/______/______/______/_____\"=.o|o_.--\"\"___/______/______/______/____\n",
    "/______/______/______/______/______/______/______/______/______/______/[TomekK]\n",
    "*******************************************************************************''')"
   ]
  },
  {
   "cell_type": "code",
   "execution_count": null,
   "id": "deaa27d1",
   "metadata": {},
   "outputs": [],
   "source": [
    "print(\"Welcome to Treasure Island \\nYour mission is to find the treasure\")\n",
    "choice = input('You\\'re at a cross road. Where do you want to go? Type \"left\" or \"right\"').lower()\n",
    "if choice == \"left\":\n",
    "    choice1 = input('You\\'ve come to a lake. There is an Island in the middle of the lake. Type \"wait\" to wait for a boat. Type \"swim\" to swim across.').lower()\n",
    "    if choice1 == \"wait\":\n",
    "        door = input(\"You arrive at the Island unharmed. There is a house with 3 doors. One red, one yellow, one blue. Which color do you choice?\")\n",
    "        if door == 'yellow':\n",
    "            print(\"You found the treasure! You win!\")\n",
    "        else:\n",
    "            print(\"Game Over\")\n",
    "    else:\n",
    "        print(\"Game Over\")\n",
    "else:\n",
    "    print(\"Game Over\")\n"
   ]
  },
  {
   "cell_type": "code",
   "execution_count": null,
   "id": "fa3af2e4",
   "metadata": {},
   "outputs": [],
   "source": []
  }
 ],
 "metadata": {
  "kernelspec": {
   "display_name": "Python 3 (ipykernel)",
   "language": "python",
   "name": "python3"
  },
  "language_info": {
   "codemirror_mode": {
    "name": "ipython",
    "version": 3
   },
   "file_extension": ".py",
   "mimetype": "text/x-python",
   "name": "python",
   "nbconvert_exporter": "python",
   "pygments_lexer": "ipython3",
   "version": "3.9.13"
  }
 },
 "nbformat": 4,
 "nbformat_minor": 5
}
