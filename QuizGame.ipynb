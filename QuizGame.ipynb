{
 "cells": [
  {
   "cell_type": "markdown",
   "id": "4f151155",
   "metadata": {},
   "source": [
    "# Quiz Game"
   ]
  },
  {
   "cell_type": "code",
   "execution_count": null,
   "id": "22d002a2",
   "metadata": {},
   "outputs": [],
   "source": [
    "question_data = [\n",
    "    {\"text\": \"A slug's blood is green.\", \"answer\": \"True\"},\n",
    "    {\"text\": \"The loudest animal is the African Elephant.\", \"answer\": \"False\"},\n",
    "    {\"text\": \"Approximately one quarter of human bones are in the feet.\", \"answer\": \"True\"},\n",
    "    {\"text\": \"The total surface area of a human lungs is the size of a football pitch.\", \"answer\": \"True\"}\n",
    "]\n",
    "\n",
    "\n",
    "import random\n",
    "current_score = 0\n",
    "total = 0\n",
    "while True:\n",
    "    text = random.choice(question_data)\n",
    "    print(text['text'])\n",
    "    total += 1\n",
    "    answer = input(\"True or False: \")\n",
    "    if text['answer'] == answer:\n",
    "        current_score += 1\n",
    "        print(f\"Here is your {current_score}/{total}\")\n",
    "    else:\n",
    "        print(f\"Incorrect. Here is your {current_score}/{total}\")\n",
    "        break"
   ]
  }
 ],
 "metadata": {
  "kernelspec": {
   "display_name": "Python 3 (ipykernel)",
   "language": "python",
   "name": "python3"
  },
  "language_info": {
   "codemirror_mode": {
    "name": "ipython",
    "version": 3
   },
   "file_extension": ".py",
   "mimetype": "text/x-python",
   "name": "python",
   "nbconvert_exporter": "python",
   "pygments_lexer": "ipython3",
   "version": "3.9.13"
  }
 },
 "nbformat": 4,
 "nbformat_minor": 5
}
