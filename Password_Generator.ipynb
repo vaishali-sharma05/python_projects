{
 "cells": [
  {
   "cell_type": "markdown",
   "id": "2aa4e510",
   "metadata": {},
   "source": [
    "# Password Generator Project "
   ]
  },
  {
   "cell_type": "code",
   "execution_count": null,
   "id": "9c25a425",
   "metadata": {},
   "outputs": [],
   "source": [
    "#Password Generator Project \n",
    "#Easy Level\n",
    "\n",
    "digits = ['0', '1', '2', '3', '4', '5', '6', '7', '8', '9']   \n",
    "character = ['a', 'b', 'c', 'd', 'e', 'f', 'g', 'h', 'i', 'j', 'k', 'm', 'n', 'o', 'p', 'q', \n",
    "            'r', 's', 't', 'u', 'v', 'w', 'x', 'y', 'z', \n",
    "             'A', 'B', 'C', 'D', 'E', 'F', 'G', 'H', 'I', 'J', 'K', 'M', 'N', 'O', 'P', 'Q', \n",
    "             'R', 'S', 'T', 'U', 'V', 'W', 'X', 'Y', 'Z'] \n",
    "  \n",
    "symbols = ['@', '#', '$', '%', '=', ':', '?', '.', '/', '|', '~', '>',  \n",
    "           '*', '(', ')', '<']\n",
    "\n",
    "print(\"Welcome to the PyPassword Generator!\")\n",
    "letter = int(input(\"How many letters would you like in your password? \"))\n",
    "symbol = int(input(\"How many symbols would you like in your password? \"))\n",
    "numbers = int(input(\"How many digits would you like in your password? \"))\n",
    "\n",
    "import random\n",
    "password =\"\"\n",
    "\n",
    "for char in range(1, letter+1):\n",
    "    password += random.choice(character)\n",
    "    \n",
    "for char in range(1, symbol+1):\n",
    "    password += random.choice(symbols)\n",
    "\n",
    "for char in range(1, numbers+1):\n",
    "    password += random.choice(digits)\n",
    "    \n",
    "print(password)"
   ]
  },
  {
   "cell_type": "code",
   "execution_count": null,
   "id": "7ba8e8d4",
   "metadata": {},
   "outputs": [],
   "source": [
    "#Password Generator Project \n",
    "#Hard Level\n",
    "\n",
    "digits = ['0', '1', '2', '3', '4', '5', '6', '7', '8', '9']   \n",
    "character = ['a', 'b', 'c', 'd', 'e', 'f', 'g', 'h', 'i', 'j', 'k', 'm', 'n', 'o', 'p', 'q', \n",
    "            'r', 's', 't', 'u', 'v', 'w', 'x', 'y', 'z', \n",
    "             'A', 'B', 'C', 'D', 'E', 'F', 'G', 'H', 'I', 'J', 'K', 'M', 'N', 'O', 'P', 'Q', \n",
    "             'R', 'S', 'T', 'U', 'V', 'W', 'X', 'Y', 'Z'] \n",
    "  \n",
    "symbols = ['@', '#', '$', '%', '=', ':', '?', '.', '/', '|', '~', '>',  \n",
    "           '*', '(', ')', '<']\n",
    "\n",
    "print(\"Welcome to the PyPassword Generator!\")\n",
    "letter = int(input(\"How many letters would you like in your password? \"))\n",
    "symbol = int(input(\"How many symbols would you like in your password? \"))\n",
    "numbers = int(input(\"How many digits would you like in your password? \"))\n",
    "\n",
    "import random\n",
    "password_list = []\n",
    "\n",
    "for char in range(1, letter+1):\n",
    "    password_list.append(random.choice(character))\n",
    "    \n",
    "for char in range(1, symbol+1):\n",
    "    password_list.append(random.choice(symbols))\n",
    "\n",
    "for char in range(1, numbers+1):\n",
    "    password_list.append(random.choice(digits))\n",
    "    \n",
    "random.shuffle(password_list)\n",
    "\n",
    "password=\"\"\n",
    "for char in password_list:\n",
    "    password+=char\n",
    "    \n",
    "print(f\"Your Password is: {password}\")"
   ]
  }
 ],
 "metadata": {
  "kernelspec": {
   "display_name": "Python 3 (ipykernel)",
   "language": "python",
   "name": "python3"
  },
  "language_info": {
   "codemirror_mode": {
    "name": "ipython",
    "version": 3
   },
   "file_extension": ".py",
   "mimetype": "text/x-python",
   "name": "python",
   "nbconvert_exporter": "python",
   "pygments_lexer": "ipython3",
   "version": "3.9.13"
  }
 },
 "nbformat": 4,
 "nbformat_minor": 5
}
