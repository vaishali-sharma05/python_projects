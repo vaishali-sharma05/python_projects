{
 "cells": [
  {
   "cell_type": "markdown",
   "id": "da3d7f9c",
   "metadata": {},
   "source": [
    "# Caesor Cipher project"
   ]
  },
  {
   "cell_type": "code",
   "execution_count": null,
   "id": "2f439693",
   "metadata": {},
   "outputs": [],
   "source": [
    "alphabet = ['a', 'b', 'c', 'd', 'e', 'f', 'g', 'h', 'i', 'j', 'k', 'l', 'm', 'n', 'o', 'p', 'q', \n",
    "            'r', 's', 't', 'u', 'v', 'w', 'x', 'y', 'z']\n",
    "\n",
    "def caesor(text, shift):\n",
    "    direction = input(\"Type 'encode' to encrypt , type 'decode' to decrypt:\\n\").lower()\n",
    "    text = input(\"Type your message:\\n\").lower()\n",
    "    shift = int(input(\"Type the shift number:\\n\"))\n",
    "    \n",
    "    length = len(text)\n",
    "    result = \"\"\n",
    "    if i in text:\n",
    "        for i in text:\n",
    "            l = alphabet.index(i)\n",
    "            if direction=='encode':\n",
    "                result+=alphabet[l+shift] \n",
    "            else:\n",
    "                result+=alphabet[l-shift]   \n",
    "    else:\n",
    "        result+=i\n",
    "         \n",
    "    print(f\"Here's the result: {result}\")     \n",
    "\n",
    "\n",
    "caesor(text, shift) \n",
    "user = input(\"Type 'yes' if you want to go again. Otherwise type 'no':\\n\").lower()\n",
    "if user=='yes':\n",
    "    caesor(text, shift)\n",
    "else:\n",
    "    print('GoodBye')"
   ]
  }
 ],
 "metadata": {
  "kernelspec": {
   "display_name": "Python 3 (ipykernel)",
   "language": "python",
   "name": "python3"
  },
  "language_info": {
   "codemirror_mode": {
    "name": "ipython",
    "version": 3
   },
   "file_extension": ".py",
   "mimetype": "text/x-python",
   "name": "python",
   "nbconvert_exporter": "python",
   "pygments_lexer": "ipython3",
   "version": "3.9.13"
  }
 },
 "nbformat": 4,
 "nbformat_minor": 5
}
