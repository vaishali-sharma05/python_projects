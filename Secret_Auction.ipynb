{
 "cells": [
  {
   "cell_type": "code",
   "execution_count": null,
   "id": "4dd162bf",
   "metadata": {},
   "outputs": [],
   "source": [
    "#write a program that will collect the names and bids of different people. \n",
    "#The program should ask for each bidder's name and their bid individually."
   ]
  },
  {
   "cell_type": "code",
   "execution_count": null,
   "id": "ab10db36",
   "metadata": {},
   "outputs": [],
   "source": [
    "import os\n",
    "\n",
    "bidding_finished = False\n",
    "def find_highest_bidder(bidding_record):\n",
    "    highest_bid = 0\n",
    "    winner = \"\"\n",
    "    \n",
    "    for bidder in bidding_record:\n",
    "        bid_amount = bidding_record[bidder]\n",
    "        if bid_amount > highest_bid:\n",
    "            highest_bid = bid_amount\n",
    "            winner = bidder\n",
    "    print(f\"The winner is {winner} with a bid of ${highest_bid}\")\n",
    "    \n",
    "while not bidding_finished:    \n",
    "    print(\"Welcome to the secret auction program.\")\n",
    "    name = input(\"What is your name?: \")\n",
    "    price = int(input(\"What's your bid?: $\"))\n",
    "    bids ={}\n",
    "    bids[name] = price\n",
    "    user_choice = input(\"Are there any other bidders? Type 'yes' or 'no'.\\n\").lower()\n",
    "    if user_choice == 'no':\n",
    "        bidding_finished = True\n",
    "        find_highest_bidder(bids)\n",
    "    elif user_choice == 'yes':\n",
    "        os.system('cls')\n",
    "        \n",
    "        "
   ]
  }
 ],
 "metadata": {
  "kernelspec": {
   "display_name": "Python 3 (ipykernel)",
   "language": "python",
   "name": "python3"
  },
  "language_info": {
   "codemirror_mode": {
    "name": "ipython",
    "version": 3
   },
   "file_extension": ".py",
   "mimetype": "text/x-python",
   "name": "python",
   "nbconvert_exporter": "python",
   "pygments_lexer": "ipython3",
   "version": "3.9.13"
  }
 },
 "nbformat": 4,
 "nbformat_minor": 5
}
