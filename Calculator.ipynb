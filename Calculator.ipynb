{
 "cells": [
  {
   "cell_type": "markdown",
   "id": "ee8e1b5d",
   "metadata": {},
   "source": [
    "# Calculator"
   ]
  },
  {
   "cell_type": "code",
   "execution_count": null,
   "id": "f13f3b87",
   "metadata": {},
   "outputs": [],
   "source": [
    "#add\n",
    "def add(n1,n2):\n",
    "    return n1 + n2\n",
    "#subtract\n",
    "def subtract(n1, n2):\n",
    "    return n1 - n2\n",
    "#multiply\n",
    "def multiply(n1, n2):\n",
    "    return n1 * n2\n",
    "#divide\n",
    "def divide(n1, n2):\n",
    "    return n1 / n2\n",
    "\n",
    "def calculator():\n",
    "    \n",
    "    num1=float(input())\n",
    "    operations = {\"+\": add, \"-\": subtract, \"*\": multiply, \"/\": divide}\n",
    "\n",
    "    for symbol in operations:\n",
    "        print(symbol)\n",
    "\n",
    "    should_continue=True\n",
    "    while should_continue:\n",
    "\n",
    "        num2=float(input(\"What is the next number?: \"))\n",
    "        operator1 = input(\"Pick an operation \")\n",
    "        calculation_function = operations[operator1]\n",
    "        answer = calculation_function(num1, num2)\n",
    "        print(f\"{num1} {operator1} {num2} = {answer}\")\n",
    "\n",
    "        if input(\"Type 'y' to continue calculating with {answer}: or type 'n' to start a new calculation: \") == 'y':\n",
    "            num1 = answer\n",
    "        else:\n",
    "            should_contine = False\n",
    "            calculator()\n",
    "\n",
    "calculator()"
   ]
  }
 ],
 "metadata": {
  "kernelspec": {
   "display_name": "Python 3 (ipykernel)",
   "language": "python",
   "name": "python3"
  },
  "language_info": {
   "codemirror_mode": {
    "name": "ipython",
    "version": 3
   },
   "file_extension": ".py",
   "mimetype": "text/x-python",
   "name": "python",
   "nbconvert_exporter": "python",
   "pygments_lexer": "ipython3",
   "version": "3.9.13"
  }
 },
 "nbformat": 4,
 "nbformat_minor": 5
}
